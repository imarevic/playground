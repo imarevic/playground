{
 "cells": [
  {
   "cell_type": "markdown",
   "id": "73cd6e87",
   "metadata": {},
   "source": [
    "## Polya Urn Sampling Scheme Basics"
   ]
  },
  {
   "cell_type": "markdown",
   "id": "7d2b9a4a",
   "metadata": {},
   "source": [
    "There are many urn sampling methods discussed in probability theory (e.g. sampling with replacement, sampling without replacement). The Polya urn sampling scheme is a special case in which we have an urn that initially contains *a* red and *b* blue balls, with *a* and *b* being positive integers.\n",
    "At each trial one ball is draw from the urn and then returned with *c* additional balls of the same color. Usually, the *c* parameter is a nonnegative integer, but the model also makes sense if it is negative:\n",
    "\n",
    "- if $c=1$ then this corresponds to classic Polya sampling\n",
    "- if $c=0$ then this corresponds to sampling with replacement (binomial distribution)\n",
    "- if $c=-1$ then this corresponds to sampling without replacement (hypergeometric distribution)\n",
    "\n",
    "For the current explorations we will assume that *c* is a nonnegative integer.\n",
    "\n",
    "A few topics are interesting about the Polya process:\n",
    "\n",
    "- **number of red balls after n trials**\n",
    "- **proportion of red balls after n trials**\n",
    "- **probability mass function and moments**\n",
    "\n",
    "In the following we will explore these via implementations in Python."
   ]
  },
  {
   "cell_type": "markdown",
   "id": "cb9a1577",
   "metadata": {},
   "source": [
    "First let us implement the Polya process:"
   ]
  },
  {
   "cell_type": "code",
   "execution_count": 45,
   "id": "58a0c632",
   "metadata": {},
   "outputs": [],
   "source": [
    "import random\n",
    "\n",
    "def polya_process(a, b, c, n_trials):\n",
    "    \n",
    "    # create urn\n",
    "    a_elems = ['red'] * a\n",
    "    b_elems = ['blue'] * b\n",
    "    urn = a_elems+b_elems\n",
    "    random.shuffle(urn)\n",
    "    \n",
    "    # process\n",
    "    for i in range(1, n_trials+1):\n",
    "        drawn_elem = random.choice(urn)\n",
    "        c_list = [drawn_elem]*c\n",
    "        print(\"trial {}: {} ball was drawn ... adding another {} of this kind to urn.\".format(i, drawn_elem, c))\n",
    "        urn.extend(c_list)\n",
    "        random.shuffle(urn)\n",
    "    \n",
    "    return urn"
   ]
  },
  {
   "cell_type": "markdown",
   "id": "189c2ab3",
   "metadata": {},
   "source": [
    "We can simulate the process with different starting parameters:"
   ]
  },
  {
   "cell_type": "code",
   "execution_count": 62,
   "id": "ea49b1bb",
   "metadata": {},
   "outputs": [],
   "source": [
    "# polya process initial params\n",
    "a_init = 20\n",
    "b_init = 20\n",
    "c_init = 1\n",
    "n_trials = 10"
   ]
  },
  {
   "cell_type": "code",
   "execution_count": 63,
   "id": "ebca8455",
   "metadata": {},
   "outputs": [
    {
     "name": "stdout",
     "output_type": "stream",
     "text": [
      "trial 1: red ball was drawn ... adding another 1 of this kind to urn.\n",
      "trial 2: red ball was drawn ... adding another 1 of this kind to urn.\n",
      "trial 3: red ball was drawn ... adding another 1 of this kind to urn.\n",
      "trial 4: blue ball was drawn ... adding another 1 of this kind to urn.\n",
      "trial 5: red ball was drawn ... adding another 1 of this kind to urn.\n",
      "trial 6: blue ball was drawn ... adding another 1 of this kind to urn.\n",
      "trial 7: blue ball was drawn ... adding another 1 of this kind to urn.\n",
      "trial 8: red ball was drawn ... adding another 1 of this kind to urn.\n",
      "trial 9: blue ball was drawn ... adding another 1 of this kind to urn.\n",
      "trial 10: blue ball was drawn ... adding another 1 of this kind to urn.\n"
     ]
    }
   ],
   "source": [
    "res_urn = polya_process(a_init, b_init, c_init, n_trials)"
   ]
  },
  {
   "cell_type": "code",
   "execution_count": null,
   "id": "ec0d9158",
   "metadata": {},
   "outputs": [],
   "source": []
  },
  {
   "cell_type": "code",
   "execution_count": null,
   "id": "7fe577ea",
   "metadata": {},
   "outputs": [],
   "source": []
  },
  {
   "cell_type": "code",
   "execution_count": null,
   "id": "47352d7a",
   "metadata": {},
   "outputs": [],
   "source": []
  }
 ],
 "metadata": {
  "kernelspec": {
   "display_name": "Python 3",
   "language": "python",
   "name": "python3"
  },
  "language_info": {
   "codemirror_mode": {
    "name": "ipython",
    "version": 3
   },
   "file_extension": ".py",
   "mimetype": "text/x-python",
   "name": "python",
   "nbconvert_exporter": "python",
   "pygments_lexer": "ipython3",
   "version": "3.6.9"
  }
 },
 "nbformat": 4,
 "nbformat_minor": 5
}
